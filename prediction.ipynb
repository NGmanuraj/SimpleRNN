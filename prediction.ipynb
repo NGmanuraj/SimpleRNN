{
 "cells": [
  {
   "cell_type": "code",
   "execution_count": 1,
   "metadata": {},
   "outputs": [],
   "source": [
    "# Step 1: Import Libraries and Load the Model\n",
    "import numpy as np\n",
    "import tensorflow as tf\n",
    "from tensorflow.keras.datasets import imdb\n",
    "from tensorflow.keras.preprocessing import sequence\n",
    "from tensorflow.keras.models import load_model"
   ]
  },
  {
   "cell_type": "code",
   "execution_count": 2,
   "metadata": {},
   "outputs": [],
   "source": [
    "# Load the IMDB dataset word index\n",
    "word_index = imdb.get_word_index()\n",
    "reverse_word_index = {value: key for key, value in word_index.items()}"
   ]
  },
  {
   "cell_type": "code",
   "execution_count": 3,
   "metadata": {},
   "outputs": [
    {
     "name": "stderr",
     "output_type": "stream",
     "text": [
      "WARNING:absl:Compiled the loaded model, but the compiled metrics have yet to be built. `model.compile_metrics` will be empty until you train or evaluate the model.\n"
     ]
    },
    {
     "data": {
      "text/html": [
       "<pre style=\"white-space:pre;overflow-x:auto;line-height:normal;font-family:Menlo,'DejaVu Sans Mono',consolas,'Courier New',monospace\"><span style=\"font-weight: bold\">Model: \"sequential\"</span>\n",
       "</pre>\n"
      ],
      "text/plain": [
       "\u001b[1mModel: \"sequential\"\u001b[0m\n"
      ]
     },
     "metadata": {},
     "output_type": "display_data"
    },
    {
     "data": {
      "text/html": [
       "<pre style=\"white-space:pre;overflow-x:auto;line-height:normal;font-family:Menlo,'DejaVu Sans Mono',consolas,'Courier New',monospace\">┏━━━━━━━━━━━━━━━━━━━━━━━━━━━━━━━━━┳━━━━━━━━━━━━━━━━━━━━━━━━┳━━━━━━━━━━━━━━━┓\n",
       "┃<span style=\"font-weight: bold\"> Layer (type)                    </span>┃<span style=\"font-weight: bold\"> Output Shape           </span>┃<span style=\"font-weight: bold\">       Param # </span>┃\n",
       "┡━━━━━━━━━━━━━━━━━━━━━━━━━━━━━━━━━╇━━━━━━━━━━━━━━━━━━━━━━━━╇━━━━━━━━━━━━━━━┩\n",
       "│ embedding (<span style=\"color: #0087ff; text-decoration-color: #0087ff\">Embedding</span>)           │ (<span style=\"color: #00af00; text-decoration-color: #00af00\">32</span>, <span style=\"color: #00af00; text-decoration-color: #00af00\">500</span>, <span style=\"color: #00af00; text-decoration-color: #00af00\">128</span>)         │     <span style=\"color: #00af00; text-decoration-color: #00af00\">1,280,000</span> │\n",
       "├─────────────────────────────────┼────────────────────────┼───────────────┤\n",
       "│ simple_rnn (<span style=\"color: #0087ff; text-decoration-color: #0087ff\">SimpleRNN</span>)          │ (<span style=\"color: #00af00; text-decoration-color: #00af00\">32</span>, <span style=\"color: #00af00; text-decoration-color: #00af00\">128</span>)              │        <span style=\"color: #00af00; text-decoration-color: #00af00\">32,896</span> │\n",
       "├─────────────────────────────────┼────────────────────────┼───────────────┤\n",
       "│ dense (<span style=\"color: #0087ff; text-decoration-color: #0087ff\">Dense</span>)                   │ (<span style=\"color: #00af00; text-decoration-color: #00af00\">32</span>, <span style=\"color: #00af00; text-decoration-color: #00af00\">1</span>)                │           <span style=\"color: #00af00; text-decoration-color: #00af00\">129</span> │\n",
       "└─────────────────────────────────┴────────────────────────┴───────────────┘\n",
       "</pre>\n"
      ],
      "text/plain": [
       "┏━━━━━━━━━━━━━━━━━━━━━━━━━━━━━━━━━┳━━━━━━━━━━━━━━━━━━━━━━━━┳━━━━━━━━━━━━━━━┓\n",
       "┃\u001b[1m \u001b[0m\u001b[1mLayer (type)                   \u001b[0m\u001b[1m \u001b[0m┃\u001b[1m \u001b[0m\u001b[1mOutput Shape          \u001b[0m\u001b[1m \u001b[0m┃\u001b[1m \u001b[0m\u001b[1m      Param #\u001b[0m\u001b[1m \u001b[0m┃\n",
       "┡━━━━━━━━━━━━━━━━━━━━━━━━━━━━━━━━━╇━━━━━━━━━━━━━━━━━━━━━━━━╇━━━━━━━━━━━━━━━┩\n",
       "│ embedding (\u001b[38;5;33mEmbedding\u001b[0m)           │ (\u001b[38;5;34m32\u001b[0m, \u001b[38;5;34m500\u001b[0m, \u001b[38;5;34m128\u001b[0m)         │     \u001b[38;5;34m1,280,000\u001b[0m │\n",
       "├─────────────────────────────────┼────────────────────────┼───────────────┤\n",
       "│ simple_rnn (\u001b[38;5;33mSimpleRNN\u001b[0m)          │ (\u001b[38;5;34m32\u001b[0m, \u001b[38;5;34m128\u001b[0m)              │        \u001b[38;5;34m32,896\u001b[0m │\n",
       "├─────────────────────────────────┼────────────────────────┼───────────────┤\n",
       "│ dense (\u001b[38;5;33mDense\u001b[0m)                   │ (\u001b[38;5;34m32\u001b[0m, \u001b[38;5;34m1\u001b[0m)                │           \u001b[38;5;34m129\u001b[0m │\n",
       "└─────────────────────────────────┴────────────────────────┴───────────────┘\n"
      ]
     },
     "metadata": {},
     "output_type": "display_data"
    },
    {
     "data": {
      "text/html": [
       "<pre style=\"white-space:pre;overflow-x:auto;line-height:normal;font-family:Menlo,'DejaVu Sans Mono',consolas,'Courier New',monospace\"><span style=\"font-weight: bold\"> Total params: </span><span style=\"color: #00af00; text-decoration-color: #00af00\">1,313,027</span> (5.01 MB)\n",
       "</pre>\n"
      ],
      "text/plain": [
       "\u001b[1m Total params: \u001b[0m\u001b[38;5;34m1,313,027\u001b[0m (5.01 MB)\n"
      ]
     },
     "metadata": {},
     "output_type": "display_data"
    },
    {
     "data": {
      "text/html": [
       "<pre style=\"white-space:pre;overflow-x:auto;line-height:normal;font-family:Menlo,'DejaVu Sans Mono',consolas,'Courier New',monospace\"><span style=\"font-weight: bold\"> Trainable params: </span><span style=\"color: #00af00; text-decoration-color: #00af00\">1,313,025</span> (5.01 MB)\n",
       "</pre>\n"
      ],
      "text/plain": [
       "\u001b[1m Trainable params: \u001b[0m\u001b[38;5;34m1,313,025\u001b[0m (5.01 MB)\n"
      ]
     },
     "metadata": {},
     "output_type": "display_data"
    },
    {
     "data": {
      "text/html": [
       "<pre style=\"white-space:pre;overflow-x:auto;line-height:normal;font-family:Menlo,'DejaVu Sans Mono',consolas,'Courier New',monospace\"><span style=\"font-weight: bold\"> Non-trainable params: </span><span style=\"color: #00af00; text-decoration-color: #00af00\">0</span> (0.00 B)\n",
       "</pre>\n"
      ],
      "text/plain": [
       "\u001b[1m Non-trainable params: \u001b[0m\u001b[38;5;34m0\u001b[0m (0.00 B)\n"
      ]
     },
     "metadata": {},
     "output_type": "display_data"
    },
    {
     "data": {
      "text/html": [
       "<pre style=\"white-space:pre;overflow-x:auto;line-height:normal;font-family:Menlo,'DejaVu Sans Mono',consolas,'Courier New',monospace\"><span style=\"font-weight: bold\"> Optimizer params: </span><span style=\"color: #00af00; text-decoration-color: #00af00\">2</span> (12.00 B)\n",
       "</pre>\n"
      ],
      "text/plain": [
       "\u001b[1m Optimizer params: \u001b[0m\u001b[38;5;34m2\u001b[0m (12.00 B)\n"
      ]
     },
     "metadata": {},
     "output_type": "display_data"
    }
   ],
   "source": [
    "# Load the pre-trained model with ReLU activation\n",
    "model = load_model('simple_rnn_imdb.h5')\n",
    "model.summary()"
   ]
  },
  {
   "cell_type": "code",
   "execution_count": 4,
   "metadata": {},
   "outputs": [
    {
     "data": {
      "text/plain": [
       "[array([[-0.6698468 , -0.23337623,  0.60857105, ..., -0.5587454 ,\n",
       "          0.33515292,  0.22886555],\n",
       "        [-0.06761689, -0.03849171, -0.00217279, ...,  0.01375537,\n",
       "          0.01613765,  0.00991687],\n",
       "        [-0.06900812, -0.00307968,  0.08657907, ..., -0.0660452 ,\n",
       "         -0.03856846,  0.00967137],\n",
       "        ...,\n",
       "        [ 0.0697607 ,  0.0862068 , -0.08584256, ...,  0.04106832,\n",
       "         -0.05700031, -0.05355067],\n",
       "        [-0.04971112,  0.04174026, -0.13399072, ..., -0.03811138,\n",
       "          0.04464484, -0.02242829],\n",
       "        [ 0.02558655, -0.06390527, -0.02742802, ..., -0.00793713,\n",
       "         -0.06296342, -0.04697691]], dtype=float32),\n",
       " array([[-0.05601429,  0.08172332,  0.17519276, ..., -0.11486002,\n",
       "          0.16280743,  0.12634604],\n",
       "        [-0.12069164, -0.11529851,  0.10801494, ..., -0.07529574,\n",
       "          0.09540614, -0.00397045],\n",
       "        [ 0.08378654,  0.00552938, -0.00295471, ..., -0.00354394,\n",
       "          0.07453798, -0.16165008],\n",
       "        ...,\n",
       "        [-0.11809931, -0.03524155,  0.06405853, ...,  0.14474523,\n",
       "          0.012505  ,  0.07061364],\n",
       "        [ 0.13444006,  0.14930803, -0.14145124, ...,  0.04087894,\n",
       "          0.1557328 ,  0.07897581],\n",
       "        [ 0.12714638, -0.03963152, -0.12251524, ...,  0.00254008,\n",
       "         -0.08239519,  0.11741817]], dtype=float32),\n",
       " array([[ 0.03949051, -0.16898769,  0.06612387, ...,  0.12398665,\n",
       "          0.01153684,  0.05340296],\n",
       "        [ 0.10924009, -0.0115063 ,  0.1238702 , ...,  0.04716627,\n",
       "          0.11272774, -0.12373296],\n",
       "        [-0.07600147, -0.07287061, -0.15670031, ...,  0.01148005,\n",
       "         -0.04829433,  0.02631957],\n",
       "        ...,\n",
       "        [-0.07659922, -0.08821106, -0.08400503, ..., -0.06414793,\n",
       "          0.0420818 , -0.03515386],\n",
       "        [ 0.06188985,  0.02115892, -0.03034695, ..., -0.07457716,\n",
       "         -0.11688038,  0.15730771],\n",
       "        [-0.04137992,  0.06780486, -0.07321806, ...,  0.02838542,\n",
       "         -0.06715019, -0.00783815]], dtype=float32),\n",
       " array([-0.00374564, -0.01068078, -0.01608275, -0.02426056, -0.01825919,\n",
       "        -0.00841025, -0.01388655, -0.0120028 ,  0.00285118, -0.0031094 ,\n",
       "         0.00852684,  0.00481501, -0.01146218, -0.00888412, -0.00350461,\n",
       "        -0.01053587, -0.0231037 , -0.01144552, -0.02107687,  0.01365727,\n",
       "        -0.00850013, -0.00144641, -0.02311459, -0.01078645, -0.02214227,\n",
       "        -0.01008072, -0.0296595 , -0.01316234, -0.01671622, -0.0027394 ,\n",
       "         0.01808367, -0.023628  , -0.01602117,  0.00567159, -0.01684475,\n",
       "         0.01038245,  0.00040495,  0.00161381, -0.00809463,  0.0041725 ,\n",
       "         0.03382294, -0.00456562, -0.00432577, -0.02664603,  0.01583568,\n",
       "        -0.02337661, -0.01391034, -0.00984818, -0.00058602, -0.01010644,\n",
       "         0.00331958, -0.00477216, -0.00409119, -0.02357362, -0.02104166,\n",
       "        -0.02409342,  0.00381188,  0.02765956, -0.00880285,  0.00276813,\n",
       "        -0.00426005,  0.19724117,  0.00887937,  0.00813179,  0.00766723,\n",
       "        -0.0118858 ,  0.00725847,  0.00415814, -0.01286035, -0.02642598,\n",
       "        -0.00600237, -0.02149651,  0.0118236 , -0.01335071, -0.02377695,\n",
       "         0.00846408, -0.01009976, -0.00599472, -0.01452281, -0.01171945,\n",
       "        -0.02139235, -0.00592174,  0.00345901, -0.00467792, -0.00870047,\n",
       "        -0.02245524, -0.01282366, -0.02142506,  0.00257493, -0.01903022,\n",
       "        -0.01349494, -0.00775186, -0.03011703, -0.00980214, -0.00990979,\n",
       "        -0.00806637,  0.00197617, -0.01976962, -0.0229366 , -0.00527885,\n",
       "        -0.002891  , -0.01260596, -0.01676182, -0.03446684, -0.01642097,\n",
       "         0.00040529, -0.02771868, -0.00264626, -0.00698167, -0.01231202,\n",
       "        -0.01308257, -0.0128196 ,  0.01840813, -0.01222139, -0.00667182,\n",
       "        -0.00053853, -0.02130091, -0.00629997, -0.00490573,  0.01359839,\n",
       "         0.0096659 , -0.01337883, -0.00822988, -0.03684877,  0.00739358,\n",
       "        -0.02366105, -0.00699456, -0.02013192], dtype=float32),\n",
       " array([[-0.17194234],\n",
       "        [-0.15245876],\n",
       "        [-0.04709671],\n",
       "        [-0.15883662],\n",
       "        [-0.02472457],\n",
       "        [ 0.00642712],\n",
       "        [-0.1004677 ],\n",
       "        [ 0.15397736],\n",
       "        [-0.15457502],\n",
       "        [ 0.24508691],\n",
       "        [ 0.19894314],\n",
       "        [-0.12913953],\n",
       "        [ 0.09722354],\n",
       "        [ 0.09597915],\n",
       "        [-0.18678883],\n",
       "        [-0.12647836],\n",
       "        [ 0.13969089],\n",
       "        [-0.21234566],\n",
       "        [ 0.10070106],\n",
       "        [-0.37820974],\n",
       "        [-0.11336988],\n",
       "        [-0.23886515],\n",
       "        [ 0.0738987 ],\n",
       "        [ 0.18437777],\n",
       "        [-0.07941206],\n",
       "        [-0.05716381],\n",
       "        [-0.04845201],\n",
       "        [ 0.23882034],\n",
       "        [-0.5534832 ],\n",
       "        [-0.3183207 ],\n",
       "        [-0.22240381],\n",
       "        [ 0.05607605],\n",
       "        [-0.11479636],\n",
       "        [-0.19131236],\n",
       "        [-0.15758406],\n",
       "        [-0.18752989],\n",
       "        [-0.05351153],\n",
       "        [ 0.1661295 ],\n",
       "        [-0.12412102],\n",
       "        [ 0.0641181 ],\n",
       "        [-0.08572641],\n",
       "        [ 0.22115706],\n",
       "        [-0.20055108],\n",
       "        [ 0.18732809],\n",
       "        [ 0.04955473],\n",
       "        [-0.13038598],\n",
       "        [ 0.10497399],\n",
       "        [-0.13277128],\n",
       "        [ 0.19707695],\n",
       "        [ 0.07772458],\n",
       "        [ 0.0718193 ],\n",
       "        [-0.11458248],\n",
       "        [-0.11594573],\n",
       "        [ 0.14587715],\n",
       "        [ 0.13942142],\n",
       "        [-0.12434874],\n",
       "        [-0.24545518],\n",
       "        [-0.19502206],\n",
       "        [-0.2129683 ],\n",
       "        [ 0.13580984],\n",
       "        [ 0.11135404],\n",
       "        [-0.15123956],\n",
       "        [ 0.12152112],\n",
       "        [ 0.11919761],\n",
       "        [-0.21048714],\n",
       "        [ 0.12235937],\n",
       "        [ 0.11399509],\n",
       "        [-0.29371652],\n",
       "        [ 0.12497512],\n",
       "        [ 0.04412763],\n",
       "        [ 0.15053397],\n",
       "        [ 0.03774228],\n",
       "        [-0.19606443],\n",
       "        [-0.09325095],\n",
       "        [-0.1196083 ],\n",
       "        [-0.27925938],\n",
       "        [-0.04720592],\n",
       "        [-0.02558279],\n",
       "        [ 0.180877  ],\n",
       "        [-0.17254981],\n",
       "        [ 0.06033333],\n",
       "        [-0.20943606],\n",
       "        [-0.15880598],\n",
       "        [-0.04630822],\n",
       "        [-0.05625607],\n",
       "        [ 0.00234883],\n",
       "        [-0.13996735],\n",
       "        [ 0.08068784],\n",
       "        [-0.15913348],\n",
       "        [-0.11818255],\n",
       "        [-0.1149016 ],\n",
       "        [-0.10119273],\n",
       "        [ 0.12041201],\n",
       "        [-0.0688464 ],\n",
       "        [ 0.1946244 ],\n",
       "        [ 0.20403141],\n",
       "        [ 0.22990228],\n",
       "        [-0.44752282],\n",
       "        [-0.02879937],\n",
       "        [ 0.24084692],\n",
       "        [ 0.13112144],\n",
       "        [-0.4558744 ],\n",
       "        [-0.13950527],\n",
       "        [-0.16982493],\n",
       "        [-0.11007015],\n",
       "        [-0.14077657],\n",
       "        [ 0.00096206],\n",
       "        [-0.15084323],\n",
       "        [-0.15123427],\n",
       "        [-0.1378737 ],\n",
       "        [-0.11242591],\n",
       "        [-0.07184342],\n",
       "        [ 0.10846566],\n",
       "        [-0.26349506],\n",
       "        [-0.32168353],\n",
       "        [ 0.1959963 ],\n",
       "        [-0.07825841],\n",
       "        [-0.20892805],\n",
       "        [-0.16876933],\n",
       "        [-0.00681718],\n",
       "        [-0.15636581],\n",
       "        [ 0.03891516],\n",
       "        [-0.7117607 ],\n",
       "        [ 0.07808706],\n",
       "        [-0.18936753],\n",
       "        [ 0.13472927],\n",
       "        [ 0.16629948],\n",
       "        [ 0.22836606]], dtype=float32),\n",
       " array([-0.18286105], dtype=float32)]"
      ]
     },
     "execution_count": 4,
     "metadata": {},
     "output_type": "execute_result"
    }
   ],
   "source": [
    "model.get_weights()"
   ]
  },
  {
   "cell_type": "code",
   "execution_count": 5,
   "metadata": {},
   "outputs": [],
   "source": [
    "# Step 2: Helper Functions\n",
    "# Function to decode reviews\n",
    "def decode_review(encoded_review):\n",
    "    return ' '.join([reverse_word_index.get(i - 3, '?') for i in encoded_review])\n",
    "\n",
    "# Function to preprocess user input\n",
    "def preprocess_text(text):\n",
    "    words = text.lower().split()\n",
    "    encoded_review = [word_index.get(word, 2) + 3 for word in words]\n",
    "    padded_review = sequence.pad_sequences([encoded_review], maxlen=500)\n",
    "    return padded_review"
   ]
  },
  {
   "cell_type": "code",
   "execution_count": 6,
   "metadata": {},
   "outputs": [],
   "source": [
    "### Prediction  function\n",
    "\n",
    "def predict_sentiment(review):\n",
    "    preprocessed_input=preprocess_text(review)\n",
    "\n",
    "    prediction=model.predict(preprocessed_input)\n",
    "\n",
    "    sentiment = 'Positive' if prediction[0][0] > 0.5 else 'Negative'\n",
    "    \n",
    "    return sentiment, prediction[0][0]\n"
   ]
  },
  {
   "cell_type": "code",
   "execution_count": 7,
   "metadata": {},
   "outputs": [
    {
     "name": "stdout",
     "output_type": "stream",
     "text": [
      "\u001b[1m1/1\u001b[0m \u001b[32m━━━━━━━━━━━━━━━━━━━━\u001b[0m\u001b[37m\u001b[0m \u001b[1m0s\u001b[0m 486ms/step\n",
      "Review: This movie was fantastic! The acting was great and the plot was thrilling.\n",
      "Sentiment: Negative\n",
      "Prediction Score: 0.4134432375431061\n"
     ]
    }
   ],
   "source": [
    "# Step 4: User Input and Prediction\n",
    "# Example review for prediction\n",
    "example_review = \"This movie was fantastic! The acting was great and the plot was thrilling.\"\n",
    "\n",
    "sentiment,score=predict_sentiment(example_review)\n",
    "\n",
    "print(f'Review: {example_review}')\n",
    "print(f'Sentiment: {sentiment}')\n",
    "print(f'Prediction Score: {score}')"
   ]
  }
 ],
 "metadata": {
  "kernelspec": {
   "display_name": "Python 3",
   "language": "python",
   "name": "python3"
  },
  "language_info": {
   "codemirror_mode": {
    "name": "ipython",
    "version": 3
   },
   "file_extension": ".py",
   "mimetype": "text/x-python",
   "name": "python",
   "nbconvert_exporter": "python",
   "pygments_lexer": "ipython3",
   "version": "3.12.0"
  }
 },
 "nbformat": 4,
 "nbformat_minor": 2
}
